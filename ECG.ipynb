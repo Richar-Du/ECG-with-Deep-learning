{
 "cells": [
  {
   "cell_type": "markdown",
   "metadata": {},
   "source": [
    "# 1. 心律不齐分类\n",
    "## 1.1 参考资料\n",
    "* Keras：Conv1D：https://blog.csdn.net/VeritasCN/article/details/90050584\n",
    "* 深度学习模型系列(1) | VGG16 Keras实现:https://cloud.tencent.com/developer/article/1509047\n",
    "* ECGAI_1D-CNN:https://github.com/SEU-wzx/ECGAI_1D-CNN\n",
    "* Keras 自编码器AutoEncoder（五）:https://blog.csdn.net/qq_19707521/article/details/78740986\n",
    "* 关于keras模型拆装：https://tensorflow.google.cn/guide/keras/save_and_serialize?hl=zh-cn\n",
    "* SENet：https://www.cnblogs.com/bonelee/p/9030092.html\n",
    "* Keras实现Senet block模块:https://blog.csdn.net/sinat_36618660/article/details/102546146"
   ]
  },
  {
   "cell_type": "markdown",
   "metadata": {},
   "source": [
    "# 2. 实现"
   ]
  },
  {
   "cell_type": "code",
   "execution_count": 1,
   "metadata": {},
   "outputs": [],
   "source": [
    "import os\n",
    "import seaborn as sns\n",
    "import collections\n",
    "import numpy as np\n",
    "import scipy.io as scio\n",
    "\n",
    "from tensorflow.keras import optimizers\n",
    "from tensorflow.keras.models import Model, Sequential,load_model\n",
    "from tensorflow.keras.optimizers import Adam, SGD, RMSprop\n",
    "from tensorflow.keras.layers import Dense, Dropout, Activation, Flatten, Input,\\\n",
    "BatchNormalization,Multiply,Layer,GlobalAveragePooling1D\n",
    "from tensorflow.keras.utils import to_categorical\n",
    "import tensorflow.keras.activations as activations\n",
    "import tensorflow.keras.layers as layers\n",
    "\n",
    "from sklearn.model_selection import train_test_split,StratifiedShuffleSplit\n",
    "import matplotlib.pyplot as plt\n",
    "from sklearn.metrics import confusion_matrix"
   ]
  },
  {
   "cell_type": "markdown",
   "metadata": {},
   "source": [
    "## 2.1 数据读取"
   ]
  },
  {
   "cell_type": "code",
   "execution_count": 2,
   "metadata": {},
   "outputs": [],
   "source": [
    "dataset = np.loadtxt('data/X.csv',delimiter=',')\n",
    "label = np.loadtxt('data/Y.csv',delimiter=',',dtype='int')\n",
    "label = np.eye(7)[label]"
   ]
  },
  {
   "cell_type": "code",
   "execution_count": 3,
   "metadata": {},
   "outputs": [
    {
     "name": "stdout",
     "output_type": "stream",
     "text": [
      "TRAIN: [5774 3846 3057 ... 7567 5792 1675] TEST: [1013 1673 2862 ... 6989 8021 1745]\n",
      "X_train :  6624\n",
      "X_test  :  1656\n",
      "shape of X_train :  (3600,)\n",
      "shape of y_train :  (6624, 7)\n",
      "shape of X_test :  (1656, 3600)\n",
      "shape of y_test :  (1656, 7)\n"
     ]
    }
   ],
   "source": [
    "# Variables\n",
    "classes = ['1','2','3','4','5','6','0']\n",
    "ClassesNum = len(classes)\n",
    "        \n",
    "# list -> arr\n",
    "X=np.array(dataset)\n",
    "Y=np.array(label)\n",
    "\n",
    "\n",
    "# 分层抽样\n",
    "sss = StratifiedShuffleSplit(n_splits=1, test_size=0.2, train_size=0.8,random_state=0)\n",
    "sss.get_n_splits(X, Y)\n",
    "for train_index, test_index in sss.split(X, Y):\n",
    "    print(\"TRAIN:\", train_index, \"TEST:\", test_index)\n",
    "    X_train, X_test = X[train_index], X[test_index]\n",
    "    y_train, y_test = Y[train_index], Y[test_index]\n",
    "\n",
    "# get X_train, X_test, y_train, y_test \n",
    "# X_train, X_test, y_train, y_test = train_test_split(X, y, test_size=0.1)\n",
    "# X_train, X_val, y_train,y_val = train_test_split(X_train,y_train,test_size=0.2)\n",
    "\n",
    "print(\"X_train : \", len(X_train))\n",
    "print(\"X_test  : \", len(X_test))\n",
    "print(\"shape of X_train : \", np.shape(X_train[0]))\n",
    "print(\"shape of y_train : \", np.shape(y_train))\n",
    "# print(\"shape of X_val : \", np.shape(X_val))\n",
    "# print(\"shape of y_val : \", np.shape(y_val))\n",
    "print(\"shape of X_test : \", np.shape(X_test))\n",
    "print(\"shape of y_test : \", np.shape(y_test))"
   ]
  },
  {
   "cell_type": "markdown",
   "metadata": {},
   "source": [
    "## 2.2 卷积降噪自编码器训练"
   ]
  },
  {
   "cell_type": "code",
   "execution_count": 6,
   "metadata": {},
   "outputs": [
    {
     "name": "stdout",
     "output_type": "stream",
     "text": [
      "Model: \"functional_1\"\n",
      "__________________________________________________________________________________________________\n",
      "Layer (type)                    Output Shape         Param #     Connected to                     \n",
      "==================================================================================================\n",
      "input_1 (InputLayer)            [(None, 3600, 1)]    0                                            \n",
      "__________________________________________________________________________________________________\n",
      "encoder_1 (Conv1D)              (None, 3600, 16)     64          input_1[0][0]                    \n",
      "__________________________________________________________________________________________________\n",
      "batch_normalization (BatchNorma (None, 3600, 16)     64          encoder_1[0][0]                  \n",
      "__________________________________________________________________________________________________\n",
      "activation (Activation)         (None, 3600, 16)     0           batch_normalization[0][0]        \n",
      "__________________________________________________________________________________________________\n",
      "encoder_2 (MaxPooling1D)        (None, 1800, 16)     0           activation[0][0]                 \n",
      "__________________________________________________________________________________________________\n",
      "global_average_pooling1d (Globa (None, 16)           0           encoder_2[0][0]                  \n",
      "__________________________________________________________________________________________________\n",
      "dense (Dense)                   (None, 4)            64          global_average_pooling1d[0][0]   \n",
      "__________________________________________________________________________________________________\n",
      "dense_1 (Dense)                 (None, 16)           64          dense[0][0]                      \n",
      "__________________________________________________________________________________________________\n",
      "multiply (Multiply)             (None, 1800, 16)     0           encoder_2[0][0]                  \n",
      "                                                                 dense_1[0][0]                    \n",
      "__________________________________________________________________________________________________\n",
      "decoder_1 (Conv1D)              (None, 1800, 8)      392         multiply[0][0]                   \n",
      "__________________________________________________________________________________________________\n",
      "decoder_3 (Conv1D)              (None, 1800, 16)     400         decoder_1[0][0]                  \n",
      "__________________________________________________________________________________________________\n",
      "decoder_4 (UpSampling1D)        (None, 3600, 16)     0           decoder_3[0][0]                  \n",
      "__________________________________________________________________________________________________\n",
      "decoder_5 (Conv1D)              (None, 3600, 1)      49          decoder_4[0][0]                  \n",
      "==================================================================================================\n",
      "Total params: 1,097\n",
      "Trainable params: 1,033\n",
      "Non-trainable params: 64\n",
      "__________________________________________________________________________________________________\n"
     ]
    }
   ],
   "source": [
    "# 为原数据加入噪声\n",
    "## 噪声影响程度\n",
    "factor = 0.05\n",
    "np.random.seed(123)\n",
    "noise = np.random.randn(len(X_train),len(X_train[0]))*factor\n",
    "X_train += noise\n",
    "\n",
    "# 定义SEBlock\n",
    "## reduction 用来降维\n",
    "def SEBlock(inputs,reduction=4,if_train=True):\n",
    "    x = GlobalAveragePooling1D()(inputs)\n",
    "    x = Dense(int(x.shape[-1]) // reduction, use_bias=False,activation=activations.relu,trainable=if_train)(x)\n",
    "    x = Dense(int(inputs.shape[-1]), use_bias=False,activation=activations.hard_sigmoid,trainable=if_train)(x)\n",
    "    return Multiply()([inputs,x])\n",
    "\n",
    "\n",
    "# 定义卷积降噪自编码器\n",
    "def conv_autoencoder(input_ecg):\n",
    "    x = layers.Conv1D(filters = 16, kernel_size = 3,padding='same',name='encoder_1')(input_ecg)\n",
    "    x = BatchNormalization(trainable=False)(x)\n",
    "    x = Activation('relu')(x)  \n",
    "    x = layers.MaxPool1D(pool_size = 2, padding='same',name='encoder_2')(x)\n",
    "    encoded = SEBlock(x)\n",
    "    \n",
    "    x = layers.Conv1D(filters = 8, kernel_size = 3, activation='relu', padding='same',name='decoder_1')(encoded)\n",
    "    x = layers.Conv1D(filters = 16, kernel_size = 3, activation='relu', padding='same',name='decoder_3')(x)\n",
    "    x = layers.UpSampling1D(size = 2,name='decoder_4')(x)  \n",
    "    decoded = layers.Conv1D(filters = 1, kernel_size = 3, activation='sigmoid', padding='same',name='decoder_5')(x)\n",
    "\n",
    "    autoencoder = Model(inputs=input_ecg, outputs=decoded)\n",
    "    \n",
    "    return autoencoder\n",
    "\n",
    "input_ecg = Input(shape=(3600,1))\n",
    "autoencoder = conv_autoencoder(input_ecg = input_ecg)\n",
    "autoencoder.summary()\n",
    "autoencoder.compile(optimizer='adadelta', loss='binary_crossentropy')  "
   ]
  },
  {
   "cell_type": "code",
   "execution_count": 7,
   "metadata": {
    "scrolled": false
   },
   "outputs": [],
   "source": [
    "X_train = np.expand_dims(X_train, axis=2)\n",
    "X_test = np.reshape(X_test, (np.shape(X_test)[0], np.shape(X_test)[1], 1))\n",
    "# 训练降噪自编码器\n",
    "autoencoder.compile(optimizer='adam', loss='binary_crossentropy')  \n",
    "  \n",
    "# 打开一个终端并启动TensorBoard，终端中输入 tensorboard --logdir=/autoencoder  \n",
    "# autoencoder.fit(X_train, X_train, epochs=2, batch_size=32,  shuffle=True) "
   ]
  },
  {
   "cell_type": "markdown",
   "metadata": {},
   "source": [
    "## 2.3 混合模型定义"
   ]
  },
  {
   "cell_type": "markdown",
   "metadata": {},
   "source": [
    "#### 加载降噪自编码器"
   ]
  },
  {
   "cell_type": "code",
   "execution_count": 16,
   "metadata": {},
   "outputs": [],
   "source": [
    "def vgg19_heart(input_data,classes=7):\n",
    "    \n",
    "    x = layers.Conv1D(filters = 128, kernel_size = 3,padding='same',name='encoder_1')(input_ecg)\n",
    "    x = BatchNormalization(trainable=False)(x)\n",
    "    x = Activation('relu')(x)  \n",
    "    x = layers.MaxPool1D(pool_size = 2, padding='same',name='encoder_2')(x)\n",
    "    x = SEBlock(x)\n",
    "    x = layers.Conv1D(filters = 64, kernel_size = 3,padding='same',name='encoder_3')(x)\n",
    "    x = BatchNormalization(trainable=False)(x)\n",
    "    x = Activation('relu')(x)  \n",
    "    x = layers.MaxPool1D(pool_size = 2, padding='same',name='encoder_4')(x)\n",
    "    x = SEBlock(x)\n",
    "    \n",
    "    # Block2\n",
    "    x = layers.Conv1D(filters = 64,kernel_size = 3,padding='same',name='block2_conv1',activation='relu')(x)\n",
    "    x = layers.Conv1D(filters = 64,kernel_size = 3,padding='same',name='block2_conv2',activation='relu')(x)\n",
    "    x = SEBlock(x)\n",
    "    x = layers.MaxPool1D(pool_size=2,strides=2,name='block2_pool')(x)\n",
    "    \n",
    "    x = layers.Conv1D(filters = 128,kernel_size = 3,padding='same',name='block3_conv1',activation='relu')(x)\n",
    "    x = layers.MaxPool1D(pool_size=2,strides=2,name='block3_pool_1')(x)\n",
    "    x = layers.Conv1D(filters = 128,kernel_size = 3,padding='same',name='block3_conv2',activation='relu')(x)\n",
    "    x = layers.MaxPool1D(pool_size=2,strides=2,name='block3_pool_2')(x)\n",
    "    x = layers.Dropout(0.5)(x)\n",
    "    x = layers.Flatten()(x)\n",
    "    x = layers.Dense(classes, activation='softmax', name='predictions')(x)\n",
    "    \n",
    "    model = Model(input_data,x,name='VGG19-Heart')\n",
    "    \n",
    "    return model"
   ]
  },
  {
   "cell_type": "code",
   "execution_count": 17,
   "metadata": {},
   "outputs": [
    {
     "name": "stdout",
     "output_type": "stream",
     "text": [
      "Model: \"VGG19-Heart\"\n",
      "__________________________________________________________________________________________________\n",
      "Layer (type)                    Output Shape         Param #     Connected to                     \n",
      "==================================================================================================\n",
      "input_1 (InputLayer)            [(None, 3600, 1)]    0                                            \n",
      "__________________________________________________________________________________________________\n",
      "encoder_1 (Conv1D)              (None, 3600, 128)    512         input_1[0][0]                    \n",
      "__________________________________________________________________________________________________\n",
      "batch_normalization_5 (BatchNor (None, 3600, 128)    512         encoder_1[0][0]                  \n",
      "__________________________________________________________________________________________________\n",
      "activation_5 (Activation)       (None, 3600, 128)    0           batch_normalization_5[0][0]      \n",
      "__________________________________________________________________________________________________\n",
      "encoder_2 (MaxPooling1D)        (None, 1800, 128)    0           activation_5[0][0]               \n",
      "__________________________________________________________________________________________________\n",
      "global_average_pooling1d_7 (Glo (None, 128)          0           encoder_2[0][0]                  \n",
      "__________________________________________________________________________________________________\n",
      "dense_14 (Dense)                (None, 32)           4096        global_average_pooling1d_7[0][0] \n",
      "__________________________________________________________________________________________________\n",
      "dense_15 (Dense)                (None, 128)          4096        dense_14[0][0]                   \n",
      "__________________________________________________________________________________________________\n",
      "multiply_7 (Multiply)           (None, 1800, 128)    0           encoder_2[0][0]                  \n",
      "                                                                 dense_15[0][0]                   \n",
      "__________________________________________________________________________________________________\n",
      "encoder_3 (Conv1D)              (None, 1800, 64)     24640       multiply_7[0][0]                 \n",
      "__________________________________________________________________________________________________\n",
      "batch_normalization_6 (BatchNor (None, 1800, 64)     256         encoder_3[0][0]                  \n",
      "__________________________________________________________________________________________________\n",
      "activation_6 (Activation)       (None, 1800, 64)     0           batch_normalization_6[0][0]      \n",
      "__________________________________________________________________________________________________\n",
      "encoder_4 (MaxPooling1D)        (None, 900, 64)      0           activation_6[0][0]               \n",
      "__________________________________________________________________________________________________\n",
      "global_average_pooling1d_8 (Glo (None, 64)           0           encoder_4[0][0]                  \n",
      "__________________________________________________________________________________________________\n",
      "dense_16 (Dense)                (None, 16)           1024        global_average_pooling1d_8[0][0] \n",
      "__________________________________________________________________________________________________\n",
      "dense_17 (Dense)                (None, 64)           1024        dense_16[0][0]                   \n",
      "__________________________________________________________________________________________________\n",
      "multiply_8 (Multiply)           (None, 900, 64)      0           encoder_4[0][0]                  \n",
      "                                                                 dense_17[0][0]                   \n",
      "__________________________________________________________________________________________________\n",
      "block2_conv1 (Conv1D)           (None, 900, 64)      12352       multiply_8[0][0]                 \n",
      "__________________________________________________________________________________________________\n",
      "block2_conv2 (Conv1D)           (None, 900, 64)      12352       block2_conv1[0][0]               \n",
      "__________________________________________________________________________________________________\n",
      "global_average_pooling1d_9 (Glo (None, 64)           0           block2_conv2[0][0]               \n",
      "__________________________________________________________________________________________________\n",
      "dense_18 (Dense)                (None, 16)           1024        global_average_pooling1d_9[0][0] \n",
      "__________________________________________________________________________________________________\n",
      "dense_19 (Dense)                (None, 64)           1024        dense_18[0][0]                   \n",
      "__________________________________________________________________________________________________\n",
      "multiply_9 (Multiply)           (None, 900, 64)      0           block2_conv2[0][0]               \n",
      "                                                                 dense_19[0][0]                   \n",
      "__________________________________________________________________________________________________\n",
      "block2_pool (MaxPooling1D)      (None, 450, 64)      0           multiply_9[0][0]                 \n",
      "__________________________________________________________________________________________________\n",
      "block3_conv1 (Conv1D)           (None, 450, 128)     24704       block2_pool[0][0]                \n",
      "__________________________________________________________________________________________________\n",
      "block3_pool_1 (MaxPooling1D)    (None, 225, 128)     0           block3_conv1[0][0]               \n",
      "__________________________________________________________________________________________________\n",
      "block3_conv2 (Conv1D)           (None, 225, 128)     49280       block3_pool_1[0][0]              \n",
      "__________________________________________________________________________________________________\n",
      "block3_pool_2 (MaxPooling1D)    (None, 112, 128)     0           block3_conv2[0][0]               \n",
      "__________________________________________________________________________________________________\n",
      "dropout_2 (Dropout)             (None, 112, 128)     0           block3_pool_2[0][0]              \n",
      "__________________________________________________________________________________________________\n",
      "flatten_2 (Flatten)             (None, 14336)        0           dropout_2[0][0]                  \n",
      "__________________________________________________________________________________________________\n",
      "predictions (Dense)             (None, 7)            100359      flatten_2[0][0]                  \n",
      "==================================================================================================\n",
      "Total params: 237,255\n",
      "Trainable params: 236,487\n",
      "Non-trainable params: 768\n",
      "__________________________________________________________________________________________________\n",
      "None\n"
     ]
    }
   ],
   "source": [
    "model = vgg19_heart(input_data=input_ecg,classes=ClassesNum)\n",
    "print(model.summary())\n",
    "# for i in range(1,9):\n",
    "#     model.layers[i].set_weights(autoencoder.layers[i].get_weights())"
   ]
  },
  {
   "cell_type": "code",
   "execution_count": 18,
   "metadata": {},
   "outputs": [
    {
     "data": {
      "text/plain": [
       "(6624, 3600, 1)"
      ]
     },
     "metadata": {},
     "output_type": "display_data"
    }
   ],
   "source": [
    "# setting optimizers & compile\n",
    "optimizers.Adam(lr = 0.001, beta_1 = 0.9, beta_2 = 0.999, epsilon = None, decay = 0.0, amsgrad = False)\n",
    "# model_all.compile(optimizer = 'adam', loss = 'categorical_crossentropy', metrics = ['accuracy'])\n",
    "model.compile(optimizer = 'adam', loss = 'categorical_crossentropy', metrics = ['accuracy'])\n",
    "\n",
    "# expand X_train dims\n",
    "# Y : int -> binary (one-hot)\n",
    "# y_train = to_categorical(y_train,num_classes = ClassesNum)\n",
    "# y_test = to_categorical(y_test,num_classes = ClassesNum)\n",
    "\n",
    "display(np.shape(X_train))"
   ]
  },
  {
   "cell_type": "code",
   "execution_count": 5,
   "metadata": {},
   "outputs": [],
   "source": [
    "# 加载模型\n",
    "model = load_model('model.h5')"
   ]
  },
  {
   "cell_type": "code",
   "execution_count": 19,
   "metadata": {},
   "outputs": [
    {
     "name": "stdout",
     "output_type": "stream",
     "text": [
      "Epoch 1/100\n",
      "332/332 [==============================] - 115s 348ms/step - loss: 0.9681 - accuracy: 0.7390 - val_loss: 0.8038 - val_accuracy: 0.7313\n",
      "Epoch 2/100\n",
      "332/332 [==============================] - 126s 381ms/step - loss: 0.6401 - accuracy: 0.7992 - val_loss: 0.4906 - val_accuracy: 0.8611\n",
      "Epoch 3/100\n",
      "332/332 [==============================] - 126s 380ms/step - loss: 0.4066 - accuracy: 0.8817 - val_loss: 0.4164 - val_accuracy: 0.8898\n",
      "Epoch 4/100\n",
      "332/332 [==============================] - 123s 370ms/step - loss: 0.3030 - accuracy: 0.9053 - val_loss: 0.3753 - val_accuracy: 0.9034\n",
      "Epoch 5/100\n",
      "332/332 [==============================] - 129s 389ms/step - loss: 0.2425 - accuracy: 0.9239 - val_loss: 0.4021 - val_accuracy: 0.9094\n",
      "Epoch 6/100\n",
      "332/332 [==============================] - 121s 364ms/step - loss: 0.1913 - accuracy: 0.9358 - val_loss: 0.4141 - val_accuracy: 0.9034\n",
      "Epoch 7/100\n",
      "332/332 [==============================] - 121s 365ms/step - loss: 0.1508 - accuracy: 0.9513 - val_loss: 0.4380 - val_accuracy: 0.9049\n",
      "Epoch 8/100\n",
      "332/332 [==============================] - 121s 363ms/step - loss: 0.1203 - accuracy: 0.9583 - val_loss: 0.6179 - val_accuracy: 0.9011\n",
      "Epoch 9/100\n",
      "332/332 [==============================] - 120s 362ms/step - loss: 0.0897 - accuracy: 0.9696 - val_loss: 0.6062 - val_accuracy: 0.8913\n",
      "Epoch 10/100\n",
      "332/332 [==============================] - 122s 368ms/step - loss: 0.0998 - accuracy: 0.9681 - val_loss: 0.4485 - val_accuracy: 0.9019\n",
      "Epoch 11/100\n",
      "332/332 [==============================] - 121s 363ms/step - loss: 0.0784 - accuracy: 0.9732 - val_loss: 0.4611 - val_accuracy: 0.9147\n",
      "Epoch 12/100\n",
      "332/332 [==============================] - 121s 363ms/step - loss: 0.0646 - accuracy: 0.9787 - val_loss: 0.5923 - val_accuracy: 0.9117\n",
      "Epoch 13/100\n",
      "332/332 [==============================] - 120s 362ms/step - loss: 0.0555 - accuracy: 0.9811 - val_loss: 0.5592 - val_accuracy: 0.9132\n",
      "Epoch 14/100\n",
      "332/332 [==============================] - 122s 368ms/step - loss: 0.0457 - accuracy: 0.9849 - val_loss: 0.6844 - val_accuracy: 0.9155\n",
      "Epoch 15/100\n",
      "332/332 [==============================] - 121s 366ms/step - loss: 0.0553 - accuracy: 0.9828 - val_loss: 0.6172 - val_accuracy: 0.9147\n",
      "Epoch 16/100\n",
      "332/332 [==============================] - 121s 363ms/step - loss: 0.0480 - accuracy: 0.9832 - val_loss: 0.6636 - val_accuracy: 0.9087\n",
      "Epoch 17/100\n",
      "332/332 [==============================] - 121s 363ms/step - loss: 0.0341 - accuracy: 0.9892 - val_loss: 0.9021 - val_accuracy: 0.9177\n",
      "Epoch 18/100\n",
      "332/332 [==============================] - 121s 364ms/step - loss: 0.0424 - accuracy: 0.9874 - val_loss: 0.6188 - val_accuracy: 0.9192\n",
      "Epoch 19/100\n",
      "332/332 [==============================] - 121s 366ms/step - loss: 0.0467 - accuracy: 0.9849 - val_loss: 0.6774 - val_accuracy: 0.9109\n",
      "Epoch 20/100\n",
      "332/332 [==============================] - 122s 366ms/step - loss: 0.0329 - accuracy: 0.9902 - val_loss: 0.7458 - val_accuracy: 0.9147\n",
      "Epoch 21/100\n",
      "332/332 [==============================] - 129s 388ms/step - loss: 0.0303 - accuracy: 0.9896 - val_loss: 0.7569 - val_accuracy: 0.9125\n",
      "Epoch 22/100\n",
      "332/332 [==============================] - 121s 366ms/step - loss: 0.0420 - accuracy: 0.9843 - val_loss: 0.6609 - val_accuracy: 0.9132\n",
      "Epoch 23/100\n",
      "332/332 [==============================] - 121s 366ms/step - loss: 0.0264 - accuracy: 0.9911 - val_loss: 0.8396 - val_accuracy: 0.9132\n",
      "Epoch 24/100\n",
      "332/332 [==============================] - 124s 373ms/step - loss: 0.0306 - accuracy: 0.9898 - val_loss: 0.7454 - val_accuracy: 0.9064\n",
      "Epoch 25/100\n",
      "332/332 [==============================] - 122s 367ms/step - loss: 0.0233 - accuracy: 0.9915 - val_loss: 0.8078 - val_accuracy: 0.9275\n",
      "Epoch 26/100\n",
      "332/332 [==============================] - 121s 364ms/step - loss: 0.0286 - accuracy: 0.9904 - val_loss: 0.8078 - val_accuracy: 0.9215\n",
      "Epoch 27/100\n",
      "332/332 [==============================] - 122s 367ms/step - loss: 0.0357 - accuracy: 0.9879 - val_loss: 0.7955 - val_accuracy: 0.9200\n",
      "Epoch 28/100\n",
      "332/332 [==============================] - 123s 370ms/step - loss: 0.0272 - accuracy: 0.9911 - val_loss: 0.8260 - val_accuracy: 0.9200\n",
      "Epoch 29/100\n",
      "332/332 [==============================] - 122s 369ms/step - loss: 0.0192 - accuracy: 0.9928 - val_loss: 0.8251 - val_accuracy: 0.9275\n",
      "Epoch 30/100\n",
      "332/332 [==============================] - 121s 363ms/step - loss: 0.0215 - accuracy: 0.9917 - val_loss: 1.0043 - val_accuracy: 0.9147\n",
      "Epoch 31/100\n",
      "332/332 [==============================] - 121s 365ms/step - loss: 0.0383 - accuracy: 0.9868 - val_loss: 0.8452 - val_accuracy: 0.9260\n",
      "Epoch 32/100\n",
      "332/332 [==============================] - 122s 367ms/step - loss: 0.0203 - accuracy: 0.9936 - val_loss: 0.8574 - val_accuracy: 0.9200\n",
      "Epoch 33/100\n",
      "332/332 [==============================] - 121s 366ms/step - loss: 0.0265 - accuracy: 0.9906 - val_loss: 0.8696 - val_accuracy: 0.9253\n",
      "Epoch 34/100\n",
      "332/332 [==============================] - 123s 371ms/step - loss: 0.0240 - accuracy: 0.9926 - val_loss: 0.8356 - val_accuracy: 0.9215\n",
      "Epoch 35/100\n",
      "332/332 [==============================] - 128s 385ms/step - loss: 0.0367 - accuracy: 0.9883 - val_loss: 0.9556 - val_accuracy: 0.9208\n",
      "Epoch 36/100\n",
      "332/332 [==============================] - 125s 375ms/step - loss: 0.0159 - accuracy: 0.9941 - val_loss: 0.8679 - val_accuracy: 0.9162\n",
      "Epoch 37/100\n",
      "332/332 [==============================] - 123s 370ms/step - loss: 0.0236 - accuracy: 0.9911 - val_loss: 0.9211 - val_accuracy: 0.9238\n",
      "Epoch 38/100\n",
      "332/332 [==============================] - 122s 366ms/step - loss: 0.0198 - accuracy: 0.9934 - val_loss: 0.7419 - val_accuracy: 0.9072\n",
      "Epoch 39/100\n",
      "332/332 [==============================] - 124s 372ms/step - loss: 0.0173 - accuracy: 0.9941 - val_loss: 0.8860 - val_accuracy: 0.9192\n",
      "Epoch 40/100\n",
      "332/332 [==============================] - 123s 371ms/step - loss: 0.0294 - accuracy: 0.9911 - val_loss: 0.7256 - val_accuracy: 0.9170\n",
      "Epoch 41/100\n",
      "332/332 [==============================] - 123s 370ms/step - loss: 0.0279 - accuracy: 0.9906 - val_loss: 0.7984 - val_accuracy: 0.9192\n",
      "Epoch 42/100\n",
      "332/332 [==============================] - 122s 369ms/step - loss: 0.0146 - accuracy: 0.9947 - val_loss: 0.8025 - val_accuracy: 0.9185\n",
      "Epoch 43/100\n",
      "332/332 [==============================] - 121s 366ms/step - loss: 0.0128 - accuracy: 0.9947 - val_loss: 0.9349 - val_accuracy: 0.9260\n",
      "Epoch 44/100\n",
      "332/332 [==============================] - 122s 366ms/step - loss: 0.0197 - accuracy: 0.9930 - val_loss: 0.8723 - val_accuracy: 0.9268\n",
      "Epoch 45/100\n",
      "332/332 [==============================] - 121s 365ms/step - loss: 0.0206 - accuracy: 0.9936 - val_loss: 1.0490 - val_accuracy: 0.9230\n",
      "Epoch 46/100\n",
      "332/332 [==============================] - 122s 368ms/step - loss: 0.0208 - accuracy: 0.9932 - val_loss: 0.7239 - val_accuracy: 0.9208\n",
      "Epoch 47/100\n",
      "332/332 [==============================] - 121s 365ms/step - loss: 0.0185 - accuracy: 0.9949 - val_loss: 0.8852 - val_accuracy: 0.9170\n",
      "Epoch 48/100\n",
      "332/332 [==============================] - 121s 363ms/step - loss: 0.0137 - accuracy: 0.9955 - val_loss: 0.7353 - val_accuracy: 0.9170\n",
      "Epoch 49/100\n",
      "332/332 [==============================] - 122s 368ms/step - loss: 0.0153 - accuracy: 0.9957 - val_loss: 0.8059 - val_accuracy: 0.9155\n",
      "Epoch 50/100\n",
      "332/332 [==============================] - 121s 364ms/step - loss: 0.0146 - accuracy: 0.9947 - val_loss: 1.1342 - val_accuracy: 0.9155\n",
      "Epoch 51/100\n",
      "332/332 [==============================] - 121s 366ms/step - loss: 0.0207 - accuracy: 0.9947 - val_loss: 0.9312 - val_accuracy: 0.9245\n",
      "Epoch 52/100\n",
      "332/332 [==============================] - 122s 366ms/step - loss: 0.0230 - accuracy: 0.9930 - val_loss: 0.8747 - val_accuracy: 0.9140\n",
      "Epoch 53/100\n",
      "332/332 [==============================] - 121s 366ms/step - loss: 0.0134 - accuracy: 0.9957 - val_loss: 0.9959 - val_accuracy: 0.9200\n",
      "Epoch 54/100\n",
      "332/332 [==============================] - 123s 371ms/step - loss: 0.0154 - accuracy: 0.9953 - val_loss: 0.8903 - val_accuracy: 0.9230\n",
      "Epoch 55/100\n",
      "332/332 [==============================] - 122s 366ms/step - loss: 0.0138 - accuracy: 0.9955 - val_loss: 0.9034 - val_accuracy: 0.9238\n",
      "Epoch 56/100\n"
     ]
    },
    {
     "name": "stdout",
     "output_type": "stream",
     "text": [
      "332/332 [==============================] - 122s 367ms/step - loss: 0.0250 - accuracy: 0.9936 - val_loss: 0.9525 - val_accuracy: 0.9140\n",
      "Epoch 57/100\n",
      "332/332 [==============================] - 121s 365ms/step - loss: 0.0159 - accuracy: 0.9947 - val_loss: 1.1537 - val_accuracy: 0.9208\n",
      "Epoch 58/100\n",
      "332/332 [==============================] - 121s 365ms/step - loss: 0.0177 - accuracy: 0.9947 - val_loss: 0.9119 - val_accuracy: 0.9200\n",
      "Epoch 59/100\n",
      "332/332 [==============================] - 123s 369ms/step - loss: 0.0102 - accuracy: 0.9970 - val_loss: 1.0476 - val_accuracy: 0.9200\n",
      "Epoch 60/100\n",
      " 56/332 [====>.........................] - ETA: 1:48 - loss: 0.0213 - accuracy: 0.9944"
     ]
    },
    {
     "ename": "KeyboardInterrupt",
     "evalue": "",
     "output_type": "error",
     "traceback": [
      "\u001b[1;31m---------------------------------------------------------------------------\u001b[0m",
      "\u001b[1;31mKeyboardInterrupt\u001b[0m                         Traceback (most recent call last)",
      "\u001b[1;32m<ipython-input-19-63087c2f255a>\u001b[0m in \u001b[0;36m<module>\u001b[1;34m\u001b[0m\n\u001b[0;32m      2\u001b[0m \u001b[0mEPOCHS\u001b[0m \u001b[1;33m=\u001b[0m \u001b[1;36m100\u001b[0m\u001b[1;33m\u001b[0m\u001b[1;33m\u001b[0m\u001b[0m\n\u001b[0;32m      3\u001b[0m \u001b[1;31m# history = model_all.fit(X_train, y_train, batch_size = BATCH_SIZE, epochs = EPOCHS)\u001b[0m\u001b[1;33m\u001b[0m\u001b[1;33m\u001b[0m\u001b[1;33m\u001b[0m\u001b[0m\n\u001b[1;32m----> 4\u001b[1;33m \u001b[0mhistory\u001b[0m \u001b[1;33m=\u001b[0m \u001b[0mmodel\u001b[0m\u001b[1;33m.\u001b[0m\u001b[0mfit\u001b[0m\u001b[1;33m(\u001b[0m\u001b[0mX_train\u001b[0m\u001b[1;33m,\u001b[0m \u001b[0my_train\u001b[0m\u001b[1;33m,\u001b[0m \u001b[0mbatch_size\u001b[0m \u001b[1;33m=\u001b[0m \u001b[0mBATCH_SIZE\u001b[0m\u001b[1;33m,\u001b[0m \u001b[0mepochs\u001b[0m \u001b[1;33m=\u001b[0m \u001b[0mEPOCHS\u001b[0m\u001b[1;33m,\u001b[0m\u001b[0mvalidation_split\u001b[0m\u001b[1;33m=\u001b[0m\u001b[1;36m0.2\u001b[0m\u001b[1;33m)\u001b[0m\u001b[1;33m\u001b[0m\u001b[1;33m\u001b[0m\u001b[0m\n\u001b[0m",
      "\u001b[1;32mc:\\users\\treo\\appdata\\local\\programs\\python\\python38\\lib\\site-packages\\tensorflow\\python\\keras\\engine\\training.py\u001b[0m in \u001b[0;36m_method_wrapper\u001b[1;34m(self, *args, **kwargs)\u001b[0m\n\u001b[0;32m    106\u001b[0m   \u001b[1;32mdef\u001b[0m \u001b[0m_method_wrapper\u001b[0m\u001b[1;33m(\u001b[0m\u001b[0mself\u001b[0m\u001b[1;33m,\u001b[0m \u001b[1;33m*\u001b[0m\u001b[0margs\u001b[0m\u001b[1;33m,\u001b[0m \u001b[1;33m**\u001b[0m\u001b[0mkwargs\u001b[0m\u001b[1;33m)\u001b[0m\u001b[1;33m:\u001b[0m\u001b[1;33m\u001b[0m\u001b[1;33m\u001b[0m\u001b[0m\n\u001b[0;32m    107\u001b[0m     \u001b[1;32mif\u001b[0m \u001b[1;32mnot\u001b[0m \u001b[0mself\u001b[0m\u001b[1;33m.\u001b[0m\u001b[0m_in_multi_worker_mode\u001b[0m\u001b[1;33m(\u001b[0m\u001b[1;33m)\u001b[0m\u001b[1;33m:\u001b[0m  \u001b[1;31m# pylint: disable=protected-access\u001b[0m\u001b[1;33m\u001b[0m\u001b[1;33m\u001b[0m\u001b[0m\n\u001b[1;32m--> 108\u001b[1;33m       \u001b[1;32mreturn\u001b[0m \u001b[0mmethod\u001b[0m\u001b[1;33m(\u001b[0m\u001b[0mself\u001b[0m\u001b[1;33m,\u001b[0m \u001b[1;33m*\u001b[0m\u001b[0margs\u001b[0m\u001b[1;33m,\u001b[0m \u001b[1;33m**\u001b[0m\u001b[0mkwargs\u001b[0m\u001b[1;33m)\u001b[0m\u001b[1;33m\u001b[0m\u001b[1;33m\u001b[0m\u001b[0m\n\u001b[0m\u001b[0;32m    109\u001b[0m \u001b[1;33m\u001b[0m\u001b[0m\n\u001b[0;32m    110\u001b[0m     \u001b[1;31m# Running inside `run_distribute_coordinator` already.\u001b[0m\u001b[1;33m\u001b[0m\u001b[1;33m\u001b[0m\u001b[1;33m\u001b[0m\u001b[0m\n",
      "\u001b[1;32mc:\\users\\treo\\appdata\\local\\programs\\python\\python38\\lib\\site-packages\\tensorflow\\python\\keras\\engine\\training.py\u001b[0m in \u001b[0;36mfit\u001b[1;34m(self, x, y, batch_size, epochs, verbose, callbacks, validation_split, validation_data, shuffle, class_weight, sample_weight, initial_epoch, steps_per_epoch, validation_steps, validation_batch_size, validation_freq, max_queue_size, workers, use_multiprocessing)\u001b[0m\n\u001b[0;32m   1096\u001b[0m                 batch_size=batch_size):\n\u001b[0;32m   1097\u001b[0m               \u001b[0mcallbacks\u001b[0m\u001b[1;33m.\u001b[0m\u001b[0mon_train_batch_begin\u001b[0m\u001b[1;33m(\u001b[0m\u001b[0mstep\u001b[0m\u001b[1;33m)\u001b[0m\u001b[1;33m\u001b[0m\u001b[1;33m\u001b[0m\u001b[0m\n\u001b[1;32m-> 1098\u001b[1;33m               \u001b[0mtmp_logs\u001b[0m \u001b[1;33m=\u001b[0m \u001b[0mtrain_function\u001b[0m\u001b[1;33m(\u001b[0m\u001b[0miterator\u001b[0m\u001b[1;33m)\u001b[0m\u001b[1;33m\u001b[0m\u001b[1;33m\u001b[0m\u001b[0m\n\u001b[0m\u001b[0;32m   1099\u001b[0m               \u001b[1;32mif\u001b[0m \u001b[0mdata_handler\u001b[0m\u001b[1;33m.\u001b[0m\u001b[0mshould_sync\u001b[0m\u001b[1;33m:\u001b[0m\u001b[1;33m\u001b[0m\u001b[1;33m\u001b[0m\u001b[0m\n\u001b[0;32m   1100\u001b[0m                 \u001b[0mcontext\u001b[0m\u001b[1;33m.\u001b[0m\u001b[0masync_wait\u001b[0m\u001b[1;33m(\u001b[0m\u001b[1;33m)\u001b[0m\u001b[1;33m\u001b[0m\u001b[1;33m\u001b[0m\u001b[0m\n",
      "\u001b[1;32mc:\\users\\treo\\appdata\\local\\programs\\python\\python38\\lib\\site-packages\\tensorflow\\python\\eager\\def_function.py\u001b[0m in \u001b[0;36m__call__\u001b[1;34m(self, *args, **kwds)\u001b[0m\n\u001b[0;32m    778\u001b[0m       \u001b[1;32melse\u001b[0m\u001b[1;33m:\u001b[0m\u001b[1;33m\u001b[0m\u001b[1;33m\u001b[0m\u001b[0m\n\u001b[0;32m    779\u001b[0m         \u001b[0mcompiler\u001b[0m \u001b[1;33m=\u001b[0m \u001b[1;34m\"nonXla\"\u001b[0m\u001b[1;33m\u001b[0m\u001b[1;33m\u001b[0m\u001b[0m\n\u001b[1;32m--> 780\u001b[1;33m         \u001b[0mresult\u001b[0m \u001b[1;33m=\u001b[0m \u001b[0mself\u001b[0m\u001b[1;33m.\u001b[0m\u001b[0m_call\u001b[0m\u001b[1;33m(\u001b[0m\u001b[1;33m*\u001b[0m\u001b[0margs\u001b[0m\u001b[1;33m,\u001b[0m \u001b[1;33m**\u001b[0m\u001b[0mkwds\u001b[0m\u001b[1;33m)\u001b[0m\u001b[1;33m\u001b[0m\u001b[1;33m\u001b[0m\u001b[0m\n\u001b[0m\u001b[0;32m    781\u001b[0m \u001b[1;33m\u001b[0m\u001b[0m\n\u001b[0;32m    782\u001b[0m       \u001b[0mnew_tracing_count\u001b[0m \u001b[1;33m=\u001b[0m \u001b[0mself\u001b[0m\u001b[1;33m.\u001b[0m\u001b[0m_get_tracing_count\u001b[0m\u001b[1;33m(\u001b[0m\u001b[1;33m)\u001b[0m\u001b[1;33m\u001b[0m\u001b[1;33m\u001b[0m\u001b[0m\n",
      "\u001b[1;32mc:\\users\\treo\\appdata\\local\\programs\\python\\python38\\lib\\site-packages\\tensorflow\\python\\eager\\def_function.py\u001b[0m in \u001b[0;36m_call\u001b[1;34m(self, *args, **kwds)\u001b[0m\n\u001b[0;32m    805\u001b[0m       \u001b[1;31m# In this case we have created variables on the first call, so we run the\u001b[0m\u001b[1;33m\u001b[0m\u001b[1;33m\u001b[0m\u001b[1;33m\u001b[0m\u001b[0m\n\u001b[0;32m    806\u001b[0m       \u001b[1;31m# defunned version which is guaranteed to never create variables.\u001b[0m\u001b[1;33m\u001b[0m\u001b[1;33m\u001b[0m\u001b[1;33m\u001b[0m\u001b[0m\n\u001b[1;32m--> 807\u001b[1;33m       \u001b[1;32mreturn\u001b[0m \u001b[0mself\u001b[0m\u001b[1;33m.\u001b[0m\u001b[0m_stateless_fn\u001b[0m\u001b[1;33m(\u001b[0m\u001b[1;33m*\u001b[0m\u001b[0margs\u001b[0m\u001b[1;33m,\u001b[0m \u001b[1;33m**\u001b[0m\u001b[0mkwds\u001b[0m\u001b[1;33m)\u001b[0m  \u001b[1;31m# pylint: disable=not-callable\u001b[0m\u001b[1;33m\u001b[0m\u001b[1;33m\u001b[0m\u001b[0m\n\u001b[0m\u001b[0;32m    808\u001b[0m     \u001b[1;32melif\u001b[0m \u001b[0mself\u001b[0m\u001b[1;33m.\u001b[0m\u001b[0m_stateful_fn\u001b[0m \u001b[1;32mis\u001b[0m \u001b[1;32mnot\u001b[0m \u001b[1;32mNone\u001b[0m\u001b[1;33m:\u001b[0m\u001b[1;33m\u001b[0m\u001b[1;33m\u001b[0m\u001b[0m\n\u001b[0;32m    809\u001b[0m       \u001b[1;31m# Release the lock early so that multiple threads can perform the call\u001b[0m\u001b[1;33m\u001b[0m\u001b[1;33m\u001b[0m\u001b[1;33m\u001b[0m\u001b[0m\n",
      "\u001b[1;32mc:\\users\\treo\\appdata\\local\\programs\\python\\python38\\lib\\site-packages\\tensorflow\\python\\eager\\function.py\u001b[0m in \u001b[0;36m__call__\u001b[1;34m(self, *args, **kwargs)\u001b[0m\n\u001b[0;32m   2827\u001b[0m     \u001b[1;32mwith\u001b[0m \u001b[0mself\u001b[0m\u001b[1;33m.\u001b[0m\u001b[0m_lock\u001b[0m\u001b[1;33m:\u001b[0m\u001b[1;33m\u001b[0m\u001b[1;33m\u001b[0m\u001b[0m\n\u001b[0;32m   2828\u001b[0m       \u001b[0mgraph_function\u001b[0m\u001b[1;33m,\u001b[0m \u001b[0margs\u001b[0m\u001b[1;33m,\u001b[0m \u001b[0mkwargs\u001b[0m \u001b[1;33m=\u001b[0m \u001b[0mself\u001b[0m\u001b[1;33m.\u001b[0m\u001b[0m_maybe_define_function\u001b[0m\u001b[1;33m(\u001b[0m\u001b[0margs\u001b[0m\u001b[1;33m,\u001b[0m \u001b[0mkwargs\u001b[0m\u001b[1;33m)\u001b[0m\u001b[1;33m\u001b[0m\u001b[1;33m\u001b[0m\u001b[0m\n\u001b[1;32m-> 2829\u001b[1;33m     \u001b[1;32mreturn\u001b[0m \u001b[0mgraph_function\u001b[0m\u001b[1;33m.\u001b[0m\u001b[0m_filtered_call\u001b[0m\u001b[1;33m(\u001b[0m\u001b[0margs\u001b[0m\u001b[1;33m,\u001b[0m \u001b[0mkwargs\u001b[0m\u001b[1;33m)\u001b[0m  \u001b[1;31m# pylint: disable=protected-access\u001b[0m\u001b[1;33m\u001b[0m\u001b[1;33m\u001b[0m\u001b[0m\n\u001b[0m\u001b[0;32m   2830\u001b[0m \u001b[1;33m\u001b[0m\u001b[0m\n\u001b[0;32m   2831\u001b[0m   \u001b[1;33m@\u001b[0m\u001b[0mproperty\u001b[0m\u001b[1;33m\u001b[0m\u001b[1;33m\u001b[0m\u001b[0m\n",
      "\u001b[1;32mc:\\users\\treo\\appdata\\local\\programs\\python\\python38\\lib\\site-packages\\tensorflow\\python\\eager\\function.py\u001b[0m in \u001b[0;36m_filtered_call\u001b[1;34m(self, args, kwargs, cancellation_manager)\u001b[0m\n\u001b[0;32m   1841\u001b[0m       \u001b[0;31m`\u001b[0m\u001b[0margs\u001b[0m\u001b[0;31m`\u001b[0m \u001b[1;32mand\u001b[0m\u001b[0;31m \u001b[0m\u001b[0;31m`\u001b[0m\u001b[0mkwargs\u001b[0m\u001b[0;31m`\u001b[0m\u001b[1;33m.\u001b[0m\u001b[1;33m\u001b[0m\u001b[1;33m\u001b[0m\u001b[0m\n\u001b[0;32m   1842\u001b[0m     \"\"\"\n\u001b[1;32m-> 1843\u001b[1;33m     return self._call_flat(\n\u001b[0m\u001b[0;32m   1844\u001b[0m         [t for t in nest.flatten((args, kwargs), expand_composites=True)\n\u001b[0;32m   1845\u001b[0m          if isinstance(t, (ops.Tensor,\n",
      "\u001b[1;32mc:\\users\\treo\\appdata\\local\\programs\\python\\python38\\lib\\site-packages\\tensorflow\\python\\eager\\function.py\u001b[0m in \u001b[0;36m_call_flat\u001b[1;34m(self, args, captured_inputs, cancellation_manager)\u001b[0m\n\u001b[0;32m   1921\u001b[0m         and executing_eagerly):\n\u001b[0;32m   1922\u001b[0m       \u001b[1;31m# No tape is watching; skip to running the function.\u001b[0m\u001b[1;33m\u001b[0m\u001b[1;33m\u001b[0m\u001b[1;33m\u001b[0m\u001b[0m\n\u001b[1;32m-> 1923\u001b[1;33m       return self._build_call_outputs(self._inference_function.call(\n\u001b[0m\u001b[0;32m   1924\u001b[0m           ctx, args, cancellation_manager=cancellation_manager))\n\u001b[0;32m   1925\u001b[0m     forward_backward = self._select_forward_and_backward_functions(\n",
      "\u001b[1;32mc:\\users\\treo\\appdata\\local\\programs\\python\\python38\\lib\\site-packages\\tensorflow\\python\\eager\\function.py\u001b[0m in \u001b[0;36mcall\u001b[1;34m(self, ctx, args, cancellation_manager)\u001b[0m\n\u001b[0;32m    543\u001b[0m       \u001b[1;32mwith\u001b[0m \u001b[0m_InterpolateFunctionError\u001b[0m\u001b[1;33m(\u001b[0m\u001b[0mself\u001b[0m\u001b[1;33m)\u001b[0m\u001b[1;33m:\u001b[0m\u001b[1;33m\u001b[0m\u001b[1;33m\u001b[0m\u001b[0m\n\u001b[0;32m    544\u001b[0m         \u001b[1;32mif\u001b[0m \u001b[0mcancellation_manager\u001b[0m \u001b[1;32mis\u001b[0m \u001b[1;32mNone\u001b[0m\u001b[1;33m:\u001b[0m\u001b[1;33m\u001b[0m\u001b[1;33m\u001b[0m\u001b[0m\n\u001b[1;32m--> 545\u001b[1;33m           outputs = execute.execute(\n\u001b[0m\u001b[0;32m    546\u001b[0m               \u001b[0mstr\u001b[0m\u001b[1;33m(\u001b[0m\u001b[0mself\u001b[0m\u001b[1;33m.\u001b[0m\u001b[0msignature\u001b[0m\u001b[1;33m.\u001b[0m\u001b[0mname\u001b[0m\u001b[1;33m)\u001b[0m\u001b[1;33m,\u001b[0m\u001b[1;33m\u001b[0m\u001b[1;33m\u001b[0m\u001b[0m\n\u001b[0;32m    547\u001b[0m               \u001b[0mnum_outputs\u001b[0m\u001b[1;33m=\u001b[0m\u001b[0mself\u001b[0m\u001b[1;33m.\u001b[0m\u001b[0m_num_outputs\u001b[0m\u001b[1;33m,\u001b[0m\u001b[1;33m\u001b[0m\u001b[1;33m\u001b[0m\u001b[0m\n",
      "\u001b[1;32mc:\\users\\treo\\appdata\\local\\programs\\python\\python38\\lib\\site-packages\\tensorflow\\python\\eager\\execute.py\u001b[0m in \u001b[0;36mquick_execute\u001b[1;34m(op_name, num_outputs, inputs, attrs, ctx, name)\u001b[0m\n\u001b[0;32m     57\u001b[0m   \u001b[1;32mtry\u001b[0m\u001b[1;33m:\u001b[0m\u001b[1;33m\u001b[0m\u001b[1;33m\u001b[0m\u001b[0m\n\u001b[0;32m     58\u001b[0m     \u001b[0mctx\u001b[0m\u001b[1;33m.\u001b[0m\u001b[0mensure_initialized\u001b[0m\u001b[1;33m(\u001b[0m\u001b[1;33m)\u001b[0m\u001b[1;33m\u001b[0m\u001b[1;33m\u001b[0m\u001b[0m\n\u001b[1;32m---> 59\u001b[1;33m     tensors = pywrap_tfe.TFE_Py_Execute(ctx._handle, device_name, op_name,\n\u001b[0m\u001b[0;32m     60\u001b[0m                                         inputs, attrs, num_outputs)\n\u001b[0;32m     61\u001b[0m   \u001b[1;32mexcept\u001b[0m \u001b[0mcore\u001b[0m\u001b[1;33m.\u001b[0m\u001b[0m_NotOkStatusException\u001b[0m \u001b[1;32mas\u001b[0m \u001b[0me\u001b[0m\u001b[1;33m:\u001b[0m\u001b[1;33m\u001b[0m\u001b[1;33m\u001b[0m\u001b[0m\n",
      "\u001b[1;31mKeyboardInterrupt\u001b[0m: "
     ]
    }
   ],
   "source": [
    "BATCH_SIZE = 16\n",
    "EPOCHS = 100\n",
    "# history = model_all.fit(X_train, y_train, batch_size = BATCH_SIZE, epochs = EPOCHS)\n",
    "history = model.fit(X_train, y_train, batch_size = BATCH_SIZE, epochs = EPOCHS,validation_split=0.2)"
   ]
  },
  {
   "cell_type": "code",
   "execution_count": 40,
   "metadata": {},
   "outputs": [],
   "source": [
    "model.save('./model.h5')"
   ]
  },
  {
   "cell_type": "code",
   "execution_count": 71,
   "metadata": {},
   "outputs": [
    {
     "name": "stdout",
     "output_type": "stream",
     "text": [
      "166/166 [==============================] - 2s 10ms/step - loss: 0.4967 - accuracy: 0.9079\n",
      "loss of val :  0.4967125654220581\n",
      "acc of val :  0.9079245328903198\n"
     ]
    }
   ],
   "source": [
    "# val_loss_acc = model_all.evaluate(X_test, y_test, batch_size=100)\n",
    "val_loss_acc = model.evaluate(X_test, y_test, batch_size = 16)\n",
    "print(\"loss of val : \", val_loss_acc[0])\n",
    "print(\"acc of val : \", val_loss_acc[1])"
   ]
  },
  {
   "cell_type": "markdown",
   "metadata": {},
   "source": [
    "结果可视化"
   ]
  },
  {
   "cell_type": "code",
   "execution_count": 56,
   "metadata": {},
   "outputs": [],
   "source": [
    "plt.rcParams[\"figure.figsize\"] = (15,5)\n",
    "plt.rcParams['lines.linewidth'] = 2\n",
    "plt.rcParams['lines.color'] = 'b'\n",
    "plt.rcParams['axes.grid'] = True"
   ]
  },
  {
   "cell_type": "code",
   "execution_count": 57,
   "metadata": {},
   "outputs": [
    {
     "name": "stdout",
     "output_type": "stream",
     "text": [
      "[[6.0328348e-03 9.9301237e-01 9.4439543e-04 ... 1.0297632e-05\n",
      "  1.4912478e-12 7.1791355e-08]\n",
      " [1.7696004e-07 9.9868613e-01 1.7616973e-04 ... 1.1261554e-03\n",
      "  1.0670851e-05 2.7295914e-07]\n",
      " [3.8413259e-06 2.0688849e-03 2.3894283e-05 ... 2.3359444e-08\n",
      "  9.9790335e-01 2.8905253e-16]\n",
      " ...\n",
      " [2.6814723e-06 9.0382707e-01 6.3994676e-03 ... 8.9705147e-02\n",
      "  3.1953929e-05 2.5532612e-05]\n",
      " [1.6886381e-03 9.9400842e-01 2.5240013e-03 ... 1.7757314e-03\n",
      "  4.8706870e-08 3.1829595e-06]\n",
      " [1.7659280e-08 9.9972790e-01 1.2425847e-05 ... 1.6486937e-04\n",
      "  9.1883332e-05 3.9440572e-08]]\n"
     ]
    }
   ],
   "source": [
    "predictions = model.predict(X_test)\n",
    "print(predictions)"
   ]
  },
  {
   "cell_type": "code",
   "execution_count": 58,
   "metadata": {},
   "outputs": [
    {
     "name": "stdout",
     "output_type": "stream",
     "text": [
      "[0. 1. 0. 0. 0. 0. 0.]\n"
     ]
    }
   ],
   "source": [
    "y_pre = np.zeros((int(predictions.size/predictions[0].size),predictions[0].size))\n",
    "for i in range(len(predictions)):\n",
    "    y_pre[i][np.where(predictions[i]==max(predictions[i]))[0][0]]=1\n",
    "print(y_pre[0])"
   ]
  },
  {
   "cell_type": "code",
   "execution_count": 59,
   "metadata": {},
   "outputs": [],
   "source": [
    "def plot_confusion_matrix(cm, classes,\n",
    "                          title='Confusion matrix',\n",
    "                          cmap=plt.cm.jet):\n",
    "    cm = cm.astype('float') / cm.sum(axis=1)[:, np.newaxis]\n",
    "    plt.imshow(cm, interpolation='nearest', cmap=cmap)\n",
    "    plt.title(title)\n",
    "    plt.colorbar()\n",
    "    tick_marks = np.arange(len(classes))\n",
    "    plt.xticks(tick_marks, classes, rotation=45)\n",
    "    plt.yticks(tick_marks, classes)\n",
    "    thresh = cm.max() / 2.\n",
    "    for i, j in itertools.product(range(cm.shape[0]), range(cm.shape[1])):\n",
    "        plt.text(j, i, '{:.2f}'.format(cm[i, j]), horizontalalignment=\"center\",\n",
    "                 color=\"white\" if cm[i, j] > thresh else \"black\")\n",
    "    plt.tight_layout()\n",
    "    plt.ylabel('True label')\n",
    "    plt.xlabel('Predicted label')\n",
    "    plt.show()\n",
    "\n",
    "# 显示混淆矩阵\n",
    "def plot_confuse(model, x_val, y_val):\n",
    "    predictions = model.predict(x_val)\n",
    "    truelabel = y_val.argmax(axis=-1)   # 将one-hot转化为label\n",
    "    conf_mat = confusion_matrix(y_true=truelabel, y_pred=predictions)\n",
    "    plt.figure()\n",
    "    plot_confusion_matrix(conf_mat, range(np.max(truelabel)+1))"
   ]
  },
  {
   "cell_type": "code",
   "execution_count": 60,
   "metadata": {},
   "outputs": [
    {
     "data": {
      "text/plain": [
       "<AxesSubplot:>"
      ]
     },
     "execution_count": 60,
     "metadata": {},
     "output_type": "execute_result"
    },
    {
     "data": {
      "image/png": "[encoded data removed]",
      "text/plain": [
       "<Figure size 1080x360 with 2 Axes>"
      ]
     },
     "metadata": {
      "needs_background": "light"
     },
     "output_type": "display_data"
    }
   ],
   "source": [
    "pre_label = y_pre.argmax(axis=-1)\n",
    "test_label = y_test.argmax(axis=-1)\n",
    "conf_mat = confusion_matrix(y_true=test_label,y_pred=pre_label)\n",
    "sns.heatmap(conf_mat,annot=True)"
   ]
  }
 ],
 "metadata": {
  "kernelspec": {
   "display_name": "Python 3",
   "language": "python",
   "name": "python3"
  },
  "language_info": {
   "codemirror_mode": {
    "name": "ipython",
    "version": 3
   },
   "file_extension": ".py",
   "mimetype": "text/x-python",
   "name": "python",
   "nbconvert_exporter": "python",
   "pygments_lexer": "ipython3",
   "version": "3.8.3rc1"
  }
 },
 "nbformat": 4,
 "nbformat_minor": 4
}
